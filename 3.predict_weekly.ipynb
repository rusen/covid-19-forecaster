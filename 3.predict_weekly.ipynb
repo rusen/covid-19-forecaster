{
 "cells": [
  {
   "cell_type": "code",
   "execution_count": null,
   "metadata": {},
   "outputs": [],
   "source": [
    "import pandas as pd\n",
    "import numpy as np\n",
    "from copy import deepcopy\n",
    "import json\n",
    "import matplotlib.pyplot as plt\n",
    "import datetime\n",
    "import shutil\n",
    "import os\n",
    "import re\n",
    "import random\n",
    "\n",
    "import tensorflow as tf\n",
    "from keras.models import Sequential\n",
    "from keras.layers import Dense\n",
    "from keras.layers import LSTM\n",
    "from keras.layers import Dropout\n",
    "from keras.layers import *\n",
    "import keras\n",
    "import pickle\n",
    "\n",
    "import requests\n",
    "from google.cloud import storage\n",
    "from bs4 import BeautifulSoup"
   ]
  },
  {
   "cell_type": "code",
   "execution_count": null,
   "metadata": {},
   "outputs": [],
   "source": [
    "# Make sure the following environment variable is set! \n",
    "creds_path = os.environ['GOOGLE_APPLICATION_CREDENTIALS_PATH']\n",
    "gcs_client = storage.Client.from_service_account_json(creds_path)\n",
    "bucket = gcs_client.get_bucket('covid-19-forecaster-data')"
   ]
  },
  {
   "cell_type": "code",
   "execution_count": null,
   "metadata": {},
   "outputs": [],
   "source": [
    "# Arguments\n",
    "lookahead = 8 # Lookahead weeks. Set to 8 by default.\n",
    "colour_limit = 0.002 # Colour up to 200 in 100k people, above is max"
   ]
  },
  {
   "cell_type": "code",
   "execution_count": null,
   "metadata": {},
   "outputs": [],
   "source": [
    "# Important dates\n",
    "begin_date_str = '1/27/20' # Make sure it's a monday, and the day before exists in the data\n",
    "begin_date = datetime.datetime.strptime(begin_date_str, \"%m/%d/%y\").date()\n",
    "print(f'Begin date : {begin_date_str}')\n",
    "\n",
    "today = datetime.date.today()\n",
    "today_date = f'{today.month}/{today.day}/{today.year-2000}'\n",
    "print(f'Date today : {today_date}')\n",
    "\n",
    "end_date = today - datetime.timedelta(today.weekday()+1)\n",
    "end_date_str = f'{end_date.month}/{end_date.day}/{end_date.year-2000}'\n",
    "print(f'End of last week : {end_date_str}')"
   ]
  },
  {
   "cell_type": "code",
   "execution_count": null,
   "metadata": {},
   "outputs": [],
   "source": [
    "# Create output folder\n",
    "week_begin = today - datetime.timedelta(today.weekday())\n",
    "week_end = week_begin + datetime.timedelta(days=6)\n",
    "cur_week_name = f'{week_begin.month}-{week_begin.day}-{week_begin.year-2000}-to-{week_end.month}-{week_end.day}-{week_end.year-2000}'\n",
    "preds_folder = f'./preds/weekly/{cur_week_name}'\n",
    "output_folder = f'./output/weekly/{cur_week_name}'\n",
    "print(f'Current identifier: *{cur_week_name}*')"
   ]
  },
  {
   "cell_type": "code",
   "execution_count": null,
   "metadata": {},
   "outputs": [],
   "source": [
    "# Read data\n",
    "with open(f\"{output_folder}/pred_vars.pkl\",\"rb\") as f:\n",
    "    pred_vars = pickle.load(f)\n",
    "std_val = pred_vars['std_val']\n",
    "base_cols = pred_vars['base_cols']\n",
    "combined_data = pred_vars['combined_data']\n",
    "df_select = pred_vars['df_select']\n",
    "input_steps = pred_vars['input_steps']\n",
    "layer_count = pred_vars['layer_count']\n",
    "unit_count = pred_vars['unit_count']\n",
    "dropout = pred_vars['dropout']\n",
    "best_model_path = pred_vars['best_model_path']"
   ]
  },
  {
   "cell_type": "code",
   "execution_count": null,
   "metadata": {},
   "outputs": [],
   "source": [
    "# Read country name - CCODE mapping\n",
    "ccode_mapping = {}\n",
    "for _, row in df_select.iterrows():\n",
    "    if (str(row['CCODE']) != '-1'):\n",
    "        ccode_mapping[row['Country']] = row['CCODE']"
   ]
  },
  {
   "cell_type": "code",
   "execution_count": null,
   "metadata": {},
   "outputs": [],
   "source": [
    "for itr in range(len(df_select)):\n",
    "    if str(df_select.loc[itr,'CCODE']) == '-1':\n",
    "        df_select.loc[itr,'CCODE'] = ccode_mapping[df_select.loc[itr,'Country']]"
   ]
  },
  {
   "cell_type": "code",
   "execution_count": null,
   "metadata": {},
   "outputs": [],
   "source": [
    "df_select.head(3)"
   ]
  },
  {
   "cell_type": "code",
   "execution_count": null,
   "metadata": {},
   "outputs": [],
   "source": [
    "def create_model(input_shape, layer_count, units, dropout, training=None):\n",
    "    # Layer count check\n",
    "    if layer_count < 2:\n",
    "        return None\n",
    "    \n",
    "    # Add the first layer\n",
    "    inputs = keras.Input(shape=(input_shape, 1))\n",
    "    x = LSTM(units=units, return_sequences=True)(inputs)\n",
    "    \n",
    "    # Add further layers\n",
    "    for layer in range(1, layer_count):\n",
    "        # Output layer: set units to 0 and don't return sequences\n",
    "        if layer == (layer_count-1):\n",
    "            return_sequences = False\n",
    "        else:\n",
    "            return_sequences = True\n",
    "\n",
    "        # Add LSTM layer\n",
    "        x = LSTM(units=units, return_sequences=return_sequences)(x)\n",
    "        x = Dropout(dropout)(x, training=training)\n",
    "\n",
    "    # Adding the output layer\n",
    "    outputs = Dense(1, activation='relu')(x)\n",
    "\n",
    "    # Compiling the model\n",
    "    model = keras.Model(inputs, outputs)\n",
    "    model.compile(optimizer = 'adam', loss = 'mean_squared_error')\n",
    "    return model"
   ]
  },
  {
   "cell_type": "markdown",
   "metadata": {},
   "source": [
    "# Inference"
   ]
  },
  {
   "cell_type": "code",
   "execution_count": null,
   "metadata": {},
   "outputs": [],
   "source": [
    "# Load weights\n",
    "ensemble_model = True\n",
    "if ensemble_model:\n",
    "    test_dropout = 0.2\n",
    "    test_trials = 100\n",
    "    training = True\n",
    "else:\n",
    "    test_dropout = dropout\n",
    "    test_trials = 1\n",
    "    training = None"
   ]
  },
  {
   "cell_type": "code",
   "execution_count": null,
   "metadata": {},
   "outputs": [],
   "source": [
    "all_preds = []\n",
    "# Load model\n",
    "model = create_model(input_steps, layer_count, unit_count, test_dropout, training=training)\n",
    "model.load_weights(best_model_path)\n",
    "\n",
    "for trial in range(test_trials):\n",
    "    print(f'Predictions (no. {trial}) ')\n",
    "    trial_preds = []\n",
    "    cur_data = combined_data.values[:, -input_steps:]\n",
    "    \n",
    "    # Get preds for all future days\n",
    "    for day in range(lookahead):\n",
    "        tmp_data = np.reshape(cur_data, (cur_data.shape[0], cur_data.shape[1], 1))\n",
    "        preds = model.predict(tmp_data)\n",
    "        cur_data = np.concatenate([cur_data, preds], axis=1)[:, -input_steps:]\n",
    "        trial_preds.append(preds)\n",
    "    trial_preds = np.stack(trial_preds, axis=1)\n",
    "    all_preds.append(trial_preds)\n",
    "all_preds = np.concatenate(all_preds, axis=2)"
   ]
  },
  {
   "cell_type": "code",
   "execution_count": null,
   "metadata": {},
   "outputs": [],
   "source": [
    "# Get the preds and the data in the original input space\n",
    "all_preds_norm = all_preds * std_val\n",
    "combined_data_norm = combined_data * std_val"
   ]
  },
  {
   "cell_type": "code",
   "execution_count": null,
   "metadata": {},
   "outputs": [],
   "source": [
    "# Calculate mean and standard deviation (measurement of uncertainty)\n",
    "mean_preds = all_preds_norm.mean(axis=2)\n",
    "std_preds = all_preds_norm.std(axis=2)"
   ]
  },
  {
   "cell_type": "code",
   "execution_count": null,
   "metadata": {},
   "outputs": [],
   "source": [
    "print(all_preds_norm.mean(), std_preds.mean())"
   ]
  },
  {
   "cell_type": "code",
   "execution_count": null,
   "metadata": {},
   "outputs": [],
   "source": [
    "real_data = combined_data_norm.values\n",
    "full_data = np.concatenate([combined_data_norm.values, mean_preds], axis=1)\n",
    "full_data_std = np.concatenate([np.zeros(real_data.shape), std_preds], axis=1)"
   ]
  },
  {
   "cell_type": "markdown",
   "metadata": {},
   "source": [
    "# Visualize the predictions"
   ]
  },
  {
   "cell_type": "code",
   "execution_count": null,
   "metadata": {
    "scrolled": true
   },
   "outputs": [],
   "source": [
    "# Get week names to visualize\n",
    "total_weeks_to_show = full_data.shape[1]\n",
    "week_names = []\n",
    "cur_date = begin_date\n",
    "for itr in range(total_weeks_to_show):\n",
    "    week_begin = cur_date\n",
    "    week_end = cur_date + datetime.timedelta(days=6)\n",
    "    week_descr = f'{week_begin.month}/{week_begin.day}/{week_begin.year-2000}-{week_end.month}/{week_end.day}/{week_end.year-2000}'\n",
    "    week_names.append(week_descr)\n",
    "    cur_date = cur_date + datetime.timedelta(days=7)"
   ]
  },
  {
   "cell_type": "code",
   "execution_count": null,
   "metadata": {},
   "outputs": [],
   "source": [
    "month_names = {'*1/': 'Jan ', '*2/': 'Feb ', '*3/': 'Mar ', '*4/': 'Apr ', '*5/': 'May ', '*6/': 'Jun ', \\\n",
    "               '*7/': 'Jul ', '*8/': 'Aug ', '*9/': 'Sep ', '*10/': 'Oct ', '*11/': 'Nov ', '*12/': 'Dec '}"
   ]
  },
  {
   "cell_type": "code",
   "execution_count": null,
   "metadata": {},
   "outputs": [],
   "source": [
    "show_cols = 15\n",
    "week_names_to_show = week_names[-show_cols:]\n",
    "shown_ticks = [x.replace('/20/', '') for x in week_names_to_show]\n",
    "shown_ticks = ['*' + (x.replace('/20', '').split('-')[0]) for x in week_names_to_show]\n",
    "for key in month_names:\n",
    "    shown_ticks = [x.replace(key, month_names[key]) for x in shown_ticks]"
   ]
  },
  {
   "cell_type": "code",
   "execution_count": null,
   "metadata": {},
   "outputs": [],
   "source": [
    "shown_ticks"
   ]
  },
  {
   "cell_type": "code",
   "execution_count": null,
   "metadata": {},
   "outputs": [],
   "source": [
    "df_select['graph_name'] = \"\"\n",
    "for itr in range(len(df_select)):\n",
    "    df_select.loc[itr, 'graph_name'] = ''.join(e for e in df_select.loc[itr, 'Name'].lower() if e.isalnum()) + \\\n",
    "                              '-' + \\\n",
    "                              ''.join(e for e in df_select.loc[itr, 'Country'].lower() if e.isalnum())"
   ]
  },
  {
   "cell_type": "code",
   "execution_count": null,
   "metadata": {},
   "outputs": [],
   "source": [
    "# NEW STYLE SIMPLE PREDICTIONS\n",
    "\n",
    "buffer = 0.2\n",
    "limit = 20\n",
    "above_limit = 10\n",
    "ybuffer = 3\n",
    "future_weeks = full_data.shape[1] - real_data.shape[1]\n",
    "if os.path.exists(f'{preds_folder}/pred_plots'):\n",
    "    shutil.rmtree(f'{preds_folder}/pred_plots')\n",
    "os.makedirs(f'{preds_folder}/pred_plots')\n",
    "for idx in range(len(df_select)):\n",
    "    if df_select.loc[idx, 'is_country'] == 0:\n",
    "        country_name = df_select.loc[idx, 'graph_name']\n",
    "        code_name = country_name\n",
    "    else:\n",
    "        country_name = df_select.loc[idx, 'Country']\n",
    "        code_name = df_select.loc[idx, 'CCODE']\n",
    "    print('Saving ', code_name)\n",
    "    data_to_show = np.maximum(0.0, 100000*full_data[idx, -show_cols:])\n",
    "    std_to_show = np.maximum(0.0, 100000*full_data_std[idx, -show_cols:])\n",
    "    real_data_to_show = data_to_show[:-future_weeks]\n",
    "\n",
    "    plt.figure(figsize=(5, 3))\n",
    "    plt.title(f'Weekly cases per 100k people')\n",
    "    plt.plot([x for x in range(len(data_to_show))], data_to_show, 'k:o', markersize=5, linewidth=2)\n",
    "    plt.fill_between([x for x in range(len(data_to_show))], (data_to_show-std_to_show), (data_to_show+std_to_show), color='k', alpha=.05)\n",
    "    plt.fill_between([x for x in range(len(data_to_show))], (data_to_show-2*std_to_show), (data_to_show+2*std_to_show), color='k', alpha=.025)\n",
    "    plt.plot([x for x in range(len(real_data_to_show))], real_data_to_show, 'k-o', markersize=5, linewidth=2)\n",
    "    \n",
    "#     plt.legend(['our predictions', 'past data'], loc='upper left')\n",
    "\n",
    "    plt.plot([0, show_cols-1], [limit, limit], 'r--')\n",
    "    plt.plot(len(real_data_to_show), data_to_show[len(real_data_to_show)], 'm*', markersize=20)\n",
    "    plt.xticks([x for x in range(show_cols)], shown_ticks, rotation=60, ha='center')\n",
    "    \n",
    "    max_y = max(limit+above_limit, np.ceil(max(data_to_show+2*std_to_show) * 1.2))+ybuffer\n",
    "    plt.ylim([-ybuffer, max_y])\n",
    "    plt.xlim([-buffer, (show_cols-1)+buffer])\n",
    "    if data_to_show[7] > max_y * 0.5:\n",
    "        plt.text(7-0.8, data_to_show[7]-(max_y/3.2), ' this\\nweek', fontsize=12, color='b', bbox=dict(facecolor='b', alpha=0.1))\n",
    "    else:\n",
    "        plt.text(7-0.8, data_to_show[7]+(max_y/6.5), ' this\\nweek', fontsize=12, color='b', bbox=dict(facecolor='b', alpha=0.1))\n",
    "    plt.text(1.1, max_y*0.85, 'recent cases', fontsize=12, color='k', alpha=0.6, bbox=dict(facecolor='black', alpha=0.1))\n",
    "    plt.text(8, max_y*0.85, 'future predictions', fontsize=12, color='k', alpha=0.6, bbox=dict(facecolor='black', alpha=0.05))\n",
    "    plt.text(2.75, limit+(max_y/20), 'risk threshold (20 per 100k)', fontsize=12, color='r', alpha=0.6, bbox=dict(facecolor='red', alpha=0.1))\n",
    "    plt.xlabel('weeks starting with')\n",
    "    plt.ylabel('number of cases')\n",
    "    \n",
    "    plt.text(11, max_y*1.13, 'covidtripplanner.com',\n",
    "         fontsize=7, color='gray',\n",
    "         ha='left', va='bottom', alpha=0.6)\n",
    "    \n",
    "    # Draw lines between the week dots and markers\n",
    "    for itr in range(len(week_names_to_show)):\n",
    "        plt.plot([itr, itr], [0, data_to_show[itr]], 'k:', alpha=0.05)\n",
    "    \n",
    "    plt.gcf().subplots_adjust(bottom=0.28, left=0.15, right=0.96)\n",
    "    plt.savefig(f'{preds_folder}/pred_plots/{code_name}.jpg', dpi=200)\n",
    "    plt.show()\n",
    "    plt.close()"
   ]
  },
  {
   "cell_type": "code",
   "execution_count": null,
   "metadata": {},
   "outputs": [],
   "source": []
  },
  {
   "cell_type": "code",
   "execution_count": null,
   "metadata": {},
   "outputs": [],
   "source": [
    "# OLD, COMPLICATED PREDICTIONS\n",
    "\n",
    "# show_cols = 20\n",
    "# buffer = 0.2\n",
    "# limit = 20\n",
    "# ybuffer = 0.5\n",
    "# future_weeks = full_data.shape[1] - real_data.shape[1]\n",
    "# if os.path.exists(f'{preds_folder}/pred_plots'):\n",
    "#     shutil.rmtree(f'{preds_folder}/pred_plots')\n",
    "# os.makedirs(f'{preds_folder}/pred_plots')\n",
    "# for idx in range(len(df_select)):\n",
    "#     if df_select.loc[idx, 'is_country'] == 0:\n",
    "#         country_name = df_select.loc[idx, 'Name'] + ' ' + df_select.loc[idx, 'CCODE']\n",
    "#         code_name = country_name\n",
    "#     else:\n",
    "#         country_name = df_select.loc[idx, 'Country']\n",
    "#         code_name = df_select.loc[idx, 'CCODE']\n",
    "#     data_to_show = np.maximum(0.0, 100000 * full_data[idx, -show_cols:])\n",
    "#     std_to_show = np.maximum(0.0, 100000 * full_data_std[idx, -show_cols:])\n",
    "#     week_names_to_show = week_names[-show_cols:]\n",
    "#     real_data_to_show = data_to_show[:-future_weeks]\n",
    "#     real_week_names_to_show = week_names_to_show[:-future_weeks]\n",
    "\n",
    "#     plt.figure(figsize=(10, 5))\n",
    "#     plt.title(f'Weekly Covid-19 data for {country_name}')\n",
    "#     plt.plot([x for x in range(len(data_to_show))], data_to_show, 'c--o')\n",
    "#     plt.fill_between([x for x in range(len(data_to_show))], (data_to_show-std_to_show), (data_to_show+std_to_show), color='c', alpha=.1)\n",
    "#     plt.fill_between([x for x in range(len(data_to_show))], (data_to_show-2*std_to_show), (data_to_show+2*std_to_show), color='c', alpha=.05)\n",
    "#     plt.plot([x for x in range(len(real_data_to_show))], real_data_to_show, 'b-o')\n",
    "#     plt.plot([0, show_cols-1], [limit, limit], 'r--')\n",
    "#     plt.plot(len(real_data_to_show), data_to_show[len(real_data_to_show)], 'm*', markersize=14)\n",
    "#     plt.ylabel('weekly cases per 100k')\n",
    "#     shown_ticks = [x for x in range(0, len(week_names_to_show), 1)]\n",
    "#     shown_xlabels = [week_names_to_show[x] for x in shown_ticks]\n",
    "#     plt.xticks(shown_ticks, shown_xlabels, rotation=45, ha='right')\n",
    "#     plt.xlabel('week')\n",
    "#     plt.ylim([-ybuffer, max(limit+5, np.ceil(max(data_to_show+2*std_to_show)) + 5)+ybuffer])\n",
    "#     plt.xlim([-buffer, (show_cols-1)+buffer])\n",
    "#     plt.legend(['predicted', 'real', f'{limit} cases per 100k', f'This week - [{week_names_to_show[len(real_data_to_show)]}] (predicted)'], loc='upper left')\n",
    "    \n",
    "#     # Draw lines between the week dots and markers\n",
    "#     for itr in range(len(week_names_to_show)):\n",
    "#         plt.plot([itr, itr], [0, data_to_show[itr]], 'b:', alpha=0.1)\n",
    "    \n",
    "#     plt.gcf().subplots_adjust(bottom=0.3, left=0.1, right=0.96)\n",
    "#     plt.savefig(f'{preds_folder}/pred_plots/{code_name}.jpg', dpi=200)\n",
    "#     plt.show()\n",
    "#     plt.close()"
   ]
  },
  {
   "cell_type": "markdown",
   "metadata": {},
   "source": [
    "## Make risk predictions for all countries and regions"
   ]
  },
  {
   "cell_type": "code",
   "execution_count": null,
   "metadata": {},
   "outputs": [],
   "source": [
    "# Get risk preds (most likely scenario)\n",
    "risk_preds = (all_preds_norm).mean(2)\n",
    "risk_preds[risk_preds > colour_limit] = colour_limit\n",
    "risk_preds[risk_preds < 0] = 0\n",
    "risk_preds = np.round((risk_preds/colour_limit) * 100).astype(int)"
   ]
  },
  {
   "cell_type": "markdown",
   "metadata": {},
   "source": [
    "## Save outputs and configuration."
   ]
  },
  {
   "cell_type": "code",
   "execution_count": null,
   "metadata": {},
   "outputs": [],
   "source": [
    "df_final = deepcopy(df_select[base_cols + ['graph_name']])\n",
    "for itr in range(len(week_names)):\n",
    "    df_final.loc[:, week_names[itr]] = full_data[:, itr]"
   ]
  },
  {
   "cell_type": "code",
   "execution_count": null,
   "metadata": {},
   "outputs": [],
   "source": [
    "df_final.to_csv(f'{output_folder}/df_final.csv')"
   ]
  },
  {
   "cell_type": "code",
   "execution_count": null,
   "metadata": {},
   "outputs": [],
   "source": [
    "# Write individual predictions to file\n",
    "with open(f\"{output_folder}/all_preds.pkl\",\"wb\") as f:\n",
    "    pickle.dump(all_preds_norm,f)\n",
    "f\"{output_folder}/all_preds.pkl\""
   ]
  },
  {
   "cell_type": "code",
   "execution_count": null,
   "metadata": {},
   "outputs": [],
   "source": [
    "# Write individual predictions to file\n",
    "with open(f\"{output_folder}/risk_preds.pkl\",\"wb\") as f:\n",
    "    pickle.dump(risk_preds,f)\n",
    "f\"{output_folder}/risk_preds.pkl\""
   ]
  },
  {
   "cell_type": "code",
   "execution_count": null,
   "metadata": {},
   "outputs": [],
   "source": [
    "config = {}\n",
    "config['lookahead'] = lookahead\n",
    "config['week_names'] = week_names\n",
    "config['current_week'] = week_names[-lookahead]\n",
    "with open(f\"{output_folder}/config.pkl\",\"wb\") as f:\n",
    "    pickle.dump(config,f)\n",
    "f\"{output_folder}/config.pkl\""
   ]
  },
  {
   "cell_type": "markdown",
   "metadata": {},
   "source": [
    "## Save plots to the cloud"
   ]
  },
  {
   "cell_type": "code",
   "execution_count": null,
   "metadata": {},
   "outputs": [],
   "source": [
    "# Delete this week's predictions if they are up there\n",
    "blobs = bucket.list_blobs(prefix=f\"preds/weekly/{cur_week_name}/pred_plots\")\n",
    "for blob in blobs:\n",
    "    blob.delete()"
   ]
  },
  {
   "cell_type": "code",
   "execution_count": null,
   "metadata": {},
   "outputs": [],
   "source": [
    "# Upload this week's predictions\n",
    "for path, subdirs, files in os.walk(preds_folder + '/pred_plots'):\n",
    "    path = path.replace(\"\\\\\",\"/\")\n",
    "    directory_name = path.replace(preds_folder, f\"preds/weekly/{cur_week_name}\")\n",
    "    for file in files:\n",
    "        blob = bucket.blob(directory_name+'/'+file)\n",
    "        blob.upload_from_filename(os.path.join(path, file))"
   ]
  },
  {
   "cell_type": "markdown",
   "metadata": {},
   "source": [
    "## Save plots to the \"current\" folder on the cloud"
   ]
  },
  {
   "cell_type": "code",
   "execution_count": null,
   "metadata": {},
   "outputs": [],
   "source": [
    "# Delete this week's predictions if they are up there\n",
    "blobs = bucket.list_blobs(prefix=f\"preds/weekly/current/pred_plots\")\n",
    "for blob in blobs:\n",
    "    blob.delete()"
   ]
  },
  {
   "cell_type": "code",
   "execution_count": null,
   "metadata": {},
   "outputs": [],
   "source": [
    "# Upload this week's predictions\n",
    "for path, subdirs, files in os.walk(preds_folder + '/pred_plots'):\n",
    "    path = path.replace(\"\\\\\",\"/\")\n",
    "    directory_name = path.replace(preds_folder, f\"preds/weekly/current\")\n",
    "    for file in files:\n",
    "        blob = bucket.blob(directory_name+'/'+file)\n",
    "        blob.upload_from_filename(os.path.join(path, file))\n",
    "        blob.make_public()"
   ]
  },
  {
   "cell_type": "code",
   "execution_count": null,
   "metadata": {},
   "outputs": [],
   "source": []
  }
 ],
 "metadata": {
  "kernelspec": {
   "display_name": "Python 3",
   "language": "python",
   "name": "python3"
  },
  "language_info": {
   "codemirror_mode": {
    "name": "ipython",
    "version": 3
   },
   "file_extension": ".py",
   "mimetype": "text/x-python",
   "name": "python",
   "nbconvert_exporter": "python",
   "pygments_lexer": "ipython3",
   "version": "3.7.6"
  }
 },
 "nbformat": 4,
 "nbformat_minor": 1
}
